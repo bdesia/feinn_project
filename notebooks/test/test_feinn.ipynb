{
 "cells": [
  {
   "cell_type": "code",
   "execution_count": 36,
   "id": "afe8be72",
   "metadata": {},
   "outputs": [],
   "source": [
    "%reload_ext autoreload\n",
    "%autoreload 2"
   ]
  },
  {
   "cell_type": "code",
   "execution_count": 37,
   "id": "f285b0d8",
   "metadata": {},
   "outputs": [],
   "source": [
    "from mesh_utils import UniformQuadMesh2D\n",
    "from feinn_solver import feinn\n",
    "\n",
    "import numpy as np\n",
    "import matplotlib.pyplot as plt"
   ]
  },
  {
   "cell_type": "code",
   "execution_count": 38,
   "id": "2ed3425b",
   "metadata": {},
   "outputs": [],
   "source": [
    "lx = 2\n",
    "ly = 1\n",
    "nx = 2\n",
    "ny = 2\n",
    "element_type = 'Q4'\n",
    "\n",
    "cantilever_mesh = UniformQuadMesh2D(lx, ly, nx, ny, element_type=element_type)\n",
    "cantilever_mesh.compute()"
   ]
  },
  {
   "cell_type": "code",
   "execution_count": 39,
   "id": "34906cc5",
   "metadata": {},
   "outputs": [],
   "source": [
    "cantilever = feinn(cantilever_mesh)"
   ]
  },
  {
   "cell_type": "code",
   "execution_count": 41,
   "id": "f7da3588",
   "metadata": {},
   "outputs": [
    {
     "name": "stdout",
     "output_type": "stream",
     "text": [
      "[[5 4 1 2]\n",
      " [6 5 2 3]\n",
      " [8 7 4 5]\n",
      " [9 8 5 6]]\n"
     ]
    }
   ],
   "source": [
    "print(cantilever_mesh.elements)"
   ]
  },
  {
   "cell_type": "code",
   "execution_count": null,
   "id": "2956192e",
   "metadata": {},
   "outputs": [],
   "source": []
  }
 ],
 "metadata": {
  "kernelspec": {
   "display_name": "Python 3",
   "language": "python",
   "name": "python3"
  },
  "language_info": {
   "codemirror_mode": {
    "name": "ipython",
    "version": 3
   },
   "file_extension": ".py",
   "mimetype": "text/x-python",
   "name": "python",
   "nbconvert_exporter": "python",
   "pygments_lexer": "ipython3",
   "version": "3.11.3"
  }
 },
 "nbformat": 4,
 "nbformat_minor": 5
}
